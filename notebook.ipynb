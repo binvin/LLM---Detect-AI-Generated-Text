{
 "cells": [
  {
   "cell_type": "code",
   "execution_count": 1,
   "id": "c5efef59",
   "metadata": {
    "_cell_guid": "b1076dfc-b9ad-4769-8c92-a6c4dae69d19",
    "_uuid": "8f2839f25d086af736a60e9eeb907d3b93b6e0e5",
    "execution": {
     "iopub.execute_input": "2024-01-09T15:25:28.425602Z",
     "iopub.status.busy": "2024-01-09T15:25:28.424999Z",
     "iopub.status.idle": "2024-01-09T15:25:30.445735Z",
     "shell.execute_reply": "2024-01-09T15:25:30.444524Z"
    },
    "papermill": {
     "duration": 2.029599,
     "end_time": "2024-01-09T15:25:30.448162",
     "exception": false,
     "start_time": "2024-01-09T15:25:28.418563",
     "status": "completed"
    },
    "tags": []
   },
   "outputs": [],
   "source": [
    "# Import libraries\n",
    "import pandas as pd\n",
    "import nltk\n",
    "from sklearn.model_selection import train_test_split"
   ]
  },
  {
   "cell_type": "code",
   "execution_count": 2,
   "id": "1ffa73ba",
   "metadata": {
    "execution": {
     "iopub.execute_input": "2024-01-09T15:25:30.458745Z",
     "iopub.status.busy": "2024-01-09T15:25:30.458247Z",
     "iopub.status.idle": "2024-01-09T15:25:30.562896Z",
     "shell.execute_reply": "2024-01-09T15:25:30.562175Z"
    },
    "papermill": {
     "duration": 0.112399,
     "end_time": "2024-01-09T15:25:30.565299",
     "exception": false,
     "start_time": "2024-01-09T15:25:30.452900",
     "status": "completed"
    },
    "tags": []
   },
   "outputs": [],
   "source": [
    "# Load the dataset with added essays from ChatGPT and BARD.\n",
    "df = pd.read_csv('/kaggle/input/more-essays-csv/merged_essays.csv')"
   ]
  },
  {
   "cell_type": "code",
   "execution_count": 3,
   "id": "68e51155",
   "metadata": {
    "execution": {
     "iopub.execute_input": "2024-01-09T15:25:30.577372Z",
     "iopub.status.busy": "2024-01-09T15:25:30.576028Z",
     "iopub.status.idle": "2024-01-09T15:25:30.591645Z",
     "shell.execute_reply": "2024-01-09T15:25:30.590718Z"
    },
    "papermill": {
     "duration": 0.023746,
     "end_time": "2024-01-09T15:25:30.593697",
     "exception": false,
     "start_time": "2024-01-09T15:25:30.569951",
     "status": "completed"
    },
    "tags": []
   },
   "outputs": [
    {
     "name": "stdout",
     "output_type": "stream",
     "text": [
      "         id  prompt_id                                               text  \\\n",
      "0  0059830c          0  Cars. Cars have been around since they became ...   \n",
      "1  005db917          0  Transportation is a large necessity in most co...   \n",
      "2  008f63e3          0  \"America's love affair with it's vehicles seem...   \n",
      "3    940276          0  How often do you ride in a car? Do you drive a...   \n",
      "4  00c39458          0  Cars are a wonderful thing. They are perhaps o...   \n",
      "\n",
      "   generated  \n",
      "0          0  \n",
      "1          0  \n",
      "2          0  \n",
      "3          0  \n",
      "4          0  \n"
     ]
    }
   ],
   "source": [
    "# Display dataset\n",
    "print(df.head())"
   ]
  },
  {
   "cell_type": "code",
   "execution_count": 4,
   "id": "97834734",
   "metadata": {
    "execution": {
     "iopub.execute_input": "2024-01-09T15:25:30.604309Z",
     "iopub.status.busy": "2024-01-09T15:25:30.603795Z",
     "iopub.status.idle": "2024-01-09T15:25:30.608170Z",
     "shell.execute_reply": "2024-01-09T15:25:30.607286Z"
    },
    "papermill": {
     "duration": 0.011699,
     "end_time": "2024-01-09T15:25:30.610182",
     "exception": false,
     "start_time": "2024-01-09T15:25:30.598483",
     "status": "completed"
    },
    "tags": []
   },
   "outputs": [],
   "source": [
    "# Specify the features (X) and target variable (y)\n",
    "X = df\n",
    "Y = df['generated']"
   ]
  },
  {
   "cell_type": "code",
   "execution_count": 5,
   "id": "e5d53925",
   "metadata": {
    "execution": {
     "iopub.execute_input": "2024-01-09T15:25:30.621222Z",
     "iopub.status.busy": "2024-01-09T15:25:30.620387Z",
     "iopub.status.idle": "2024-01-09T15:25:30.631950Z",
     "shell.execute_reply": "2024-01-09T15:25:30.630831Z"
    },
    "papermill": {
     "duration": 0.019663,
     "end_time": "2024-01-09T15:25:30.634526",
     "exception": false,
     "start_time": "2024-01-09T15:25:30.614863",
     "status": "completed"
    },
    "tags": []
   },
   "outputs": [],
   "source": [
    "# Split the dataset into training and test sets - 70:30 ratio\n",
    "X_train, X_dev, y_train, y_dev = train_test_split(X, Y, test_size=0.3, random_state=42)\n"
   ]
  },
  {
   "cell_type": "code",
   "execution_count": 6,
   "id": "ea3ff21c",
   "metadata": {
    "execution": {
     "iopub.execute_input": "2024-01-09T15:25:30.645681Z",
     "iopub.status.busy": "2024-01-09T15:25:30.644925Z",
     "iopub.status.idle": "2024-01-09T15:25:30.650125Z",
     "shell.execute_reply": "2024-01-09T15:25:30.649044Z"
    },
    "papermill": {
     "duration": 0.013182,
     "end_time": "2024-01-09T15:25:30.652490",
     "exception": false,
     "start_time": "2024-01-09T15:25:30.639308",
     "status": "completed"
    },
    "tags": []
   },
   "outputs": [
    {
     "name": "stdout",
     "output_type": "stream",
     "text": [
      "Training set shape: (1041, 4) (1041,)\n",
      "Development set shape: (447, 4) (447,)\n"
     ]
    }
   ],
   "source": [
    "# Display the shapes of the resulting sets\n",
    "print(\"Training set shape:\", X_train.shape, y_train.shape)\n",
    "print(\"Development set shape:\", X_dev.shape, y_dev.shape)"
   ]
  },
  {
   "cell_type": "code",
   "execution_count": 7,
   "id": "12a21ab5",
   "metadata": {
    "execution": {
     "iopub.execute_input": "2024-01-09T15:25:30.663749Z",
     "iopub.status.busy": "2024-01-09T15:25:30.663407Z",
     "iopub.status.idle": "2024-01-09T15:25:30.668352Z",
     "shell.execute_reply": "2024-01-09T15:25:30.667096Z"
    },
    "papermill": {
     "duration": 0.013504,
     "end_time": "2024-01-09T15:25:30.670827",
     "exception": false,
     "start_time": "2024-01-09T15:25:30.657323",
     "status": "completed"
    },
    "tags": []
   },
   "outputs": [],
   "source": [
    "from collections import Counter\n",
    "from collections import defaultdict\n",
    "\n",
    "my_dictionary= {}\n",
    "no_of_human_documents = 0\n",
    "no_of_llm_documents = 0"
   ]
  },
  {
   "cell_type": "code",
   "execution_count": 8,
   "id": "b579db83",
   "metadata": {
    "execution": {
     "iopub.execute_input": "2024-01-09T15:25:30.682090Z",
     "iopub.status.busy": "2024-01-09T15:25:30.681719Z",
     "iopub.status.idle": "2024-01-09T15:25:30.688398Z",
     "shell.execute_reply": "2024-01-09T15:25:30.687380Z"
    },
    "papermill": {
     "duration": 0.015196,
     "end_time": "2024-01-09T15:25:30.690856",
     "exception": false,
     "start_time": "2024-01-09T15:25:30.675660",
     "status": "completed"
    },
    "tags": []
   },
   "outputs": [],
   "source": [
    "'''\n",
    "build_vocabulary : This function builds a vocabulary by counting the occurrences of each word,\n",
    "then filters out words that occur fewer times than the specified min_occurrence threshold i.e.,\n",
    "5. And utilizes the Counter class from the collections module to count word occurrences.\n",
    "'''\n",
    "def build_vocabulary(essay, min_occurrence=5):\n",
    "\n",
    "    # Flatten the list of sentences into a single list of words\n",
    "    all_words = [word.lower() for word in essay.split()]\n",
    "\n",
    "    # Count the occurrences of each word\n",
    "    word_counts = Counter(all_words)\n",
    "\n",
    "    # Filter out rare words based on the minimum occurrence threshold\n",
    "    '''\n",
    "    a dictionary comprehension that creates a new dictionary named vocabulary where each entry \n",
    "    consists of words and their counts from the word_counts dictionary, but only includes \n",
    "    those words where their count meets or exceeds the specified threshold min_occurrence.\n",
    "    '''\n",
    "    vocabulary = {word : count for word, count in word_counts.items() if count >= min_occurrence}\n",
    "    \n",
    "    return vocabulary"
   ]
  },
  {
   "cell_type": "code",
   "execution_count": 9,
   "id": "f340afe0",
   "metadata": {
    "execution": {
     "iopub.execute_input": "2024-01-09T15:25:30.701914Z",
     "iopub.status.busy": "2024-01-09T15:25:30.701593Z",
     "iopub.status.idle": "2024-01-09T15:25:30.970969Z",
     "shell.execute_reply": "2024-01-09T15:25:30.969748Z"
    },
    "papermill": {
     "duration": 0.277664,
     "end_time": "2024-01-09T15:25:30.973413",
     "exception": false,
     "start_time": "2024-01-09T15:25:30.695749",
     "status": "completed"
    },
    "tags": []
   },
   "outputs": [
    {
     "name": "stdout",
     "output_type": "stream",
     "text": [
      "{'eafb8a56': {'LLM': 1, 'car': 5, 'to': 5, 'of': 6, 'the': 8, 'our': 5, 'a': 6, 'be': 5, 'for': 5, 'and': 6, 'it': 5}, 'aa0b24ef': {'HUMAN': 0, 'there': 5, 'or': 7, 'not': 7, 'we': 5, 'the': 54, 'electoral': 13, 'have': 7, 'it': 6, 'and': 7, 'vote': 7, 'on': 5, 'i': 5, 'is': 10, 'to': 25, 'election': 5, 'for': 9, 'of': 17, 'if': 6, 'system': 5, 'would': 11, 'people': 7, 'feel': 6, 'their': 15, 'votes': 6, 'matter': 5, 'more': 5, 'they': 10, 'electors': 6, 'that': 16, 'in': 12, 'are': 8, 'you': 9, 'your': 5, 'states': 7, 'candidates': 5, 'were': 6, 'because': 5, 'votes.': 5}, 'b9229a95': {'HUMAN': 0, 'in': 15, 'the': 36, 'electoral': 11, 'college': 10, ',': 9, 'popular': 6, 'vote': 11, 'would': 7, 'be': 6, 'a': 19, 'chance': 5, 'for': 9, 'to': 13, 'voice': 5, 'is': 5, 'how': 6, 'voters': 6, 'and': 5, 'of': 7, 'tie': 6, 'then': 5, 'paragraph': 5, 'it': 5, 'that': 6, 'president': 7, 'electors': 5, 'who': 5, 'thats': 5, 'we': 6, 'have': 8}, 'e5dcf622': {'HUMAN': 0, 'not': 10, 'the': 45, 'electoral': 13, 'college': 9, 'can': 8, 'a': 9, 'to': 6, 'is': 8, 'in': 11, 'even': 5, 'of': 12, 'system': 8, 'are': 6, 'for': 5, 'only': 6, 'states': 6}, 'ad607532': {'HUMAN': 0, 'the': 29, 'of': 15, 'is': 8, 'a': 13, 'cars': 7, 'will': 5, 'air': 6, 'and': 12, 'in': 12, 'people': 6, 'to': 15, 'that': 5, 'we': 6}, '1a7af311': {'HUMAN': 0, 'the': 76, 'electoral': 15, 'is': 9, 'a': 10, 'electors': 7, 'vote': 11, 'for': 16, 'president': 6, 'and': 20, 'of': 17, 'by': 5, 'people': 5, 'are': 7, 'or': 5, 'not': 5, 'collegee': 10, 'it': 15, 'to': 34, 'election': 11, 'can': 5, 'be': 11, 'that': 13, 'states': 10, 'will': 6, 'chance': 6, 'there': 7, 'fair': 6, 'voters': 12, 'they': 13, 'have': 7, 'in': 6, 'get': 5, 'who': 15, 'elector': 5, 'presidential': 7, 'was': 5, 'wrong': 5, 'picking': 8, 'even': 5, 'may': 7}, 'd75614ca': {'HUMAN': 0, 'cars': 5, 'are': 6, 'to': 25, 'the': 25, 'of': 15, 'a': 11, 'car': 11, 'you': 19, 'need': 5, 'go': 6, 'in': 9, 'that': 13, 'usage': 7, 'and': 9, 'get': 7, 'your': 6, 'advantage': 5, 'is': 7, 'will': 9, 'for': 7, 'but': 5, 'paragraph': 9, 'source': 5}, '418ec8d3': {'HUMAN': 0, 'the': 22, 'electoral': 7, 'college': 6, 'is': 8, 'a': 9, 'that': 11, 'states': 5, 'to': 11, 'of': 6, 'people': 5, 'this': 5, 'not': 8, 'vote': 5, 'are': 5, 'in': 8, 'popular': 5, 'and': 6}, '3fcefdb7': {'HUMAN': 0, 'in': 9, 'who': 7, 'be': 9, 'of': 16, 'our': 5, 'for': 5, 'the': 31, 'people': 12, 'to': 9, 'they': 5, 'and': 8, 'not': 5, 'electoral': 9, 'college': 7, 'when': 5, 'are': 5, 'it': 6, 'is': 11, 'a': 7, 'can': 6, 'we': 6, 'that': 8, 'if': 5}, '7b9e799c': {'HUMAN': 0, 'that': 6, 'you': 6, 'against': 5, 'the': 33, 'electoral': 6, 'is': 7, 'a': 18, 'to': 15, 'and': 9, 'are': 7, 'voters': 5, 'of': 9, 'if': 11, 'were': 5, 'in': 8, 'who': 6, 'would': 8, 'imagine': 8, 'we': 8, 'from': 7, 'happen': 5}}\n"
     ]
    }
   ],
   "source": [
    "for index,row in X_train.iterrows():\n",
    "  vocabulary = build_vocabulary(row['text'])\n",
    "  if(row['generated'] == 0):\n",
    "    no_of_human_documents += 1\n",
    "    Class_voc={'HUMAN':0}\n",
    "    Class_voc.update(vocabulary)\n",
    "  else:\n",
    "    no_of_llm_documents += 1\n",
    "    Class_voc={'LLM':1}\n",
    "    Class_voc.update(vocabulary)\n",
    "  try:\n",
    "    my_dictionary[row['id']].append(Class_voc)\n",
    "  except KeyError:\n",
    "    my_dictionary = {**my_dictionary, **{row['id']: Class_voc}}\n",
    "\n",
    "print(dict(list(my_dictionary.items())[0:10]))"
   ]
  },
  {
   "cell_type": "code",
   "execution_count": 10,
   "id": "9f8e95a6",
   "metadata": {
    "execution": {
     "iopub.execute_input": "2024-01-09T15:25:30.984709Z",
     "iopub.status.busy": "2024-01-09T15:25:30.984367Z",
     "iopub.status.idle": "2024-01-09T15:25:30.991643Z",
     "shell.execute_reply": "2024-01-09T15:25:30.990665Z"
    },
    "papermill": {
     "duration": 0.015109,
     "end_time": "2024-01-09T15:25:30.993501",
     "exception": false,
     "start_time": "2024-01-09T15:25:30.978392",
     "status": "completed"
    },
    "tags": []
   },
   "outputs": [],
   "source": [
    "'''\n",
    "This function counts the number of documents in which the given word appears and the \n",
    "probability is computed as the ratio of the number of documents containing the word to the \n",
    "total number of documents. \n",
    "P[“the”] = no of documents containing ‘the’ / no of all documents\n",
    "'''\n",
    "def calculate_probability(word, documents):\n",
    "    num_documents_with_word = sum(1 for document in documents.values() if word in document)\n",
    "    # Calculate the probability\n",
    "    probability = num_documents_with_word / len(X_train)\n",
    "    return probability\n",
    "\n",
    "\n",
    "'''\n",
    "This function counts the number of documents in the specified class and counts the number of \n",
    "documents in the specified class that contain the given word. Finally, probability of the word\n",
    "occurring in a document given that the document belongs to the specified class. \n",
    "P[“the” | LLM] = no of LLM documents containing “the” / no of all LLM documents\n",
    "'''\n",
    "def calculate_conditional_probability(word, documents,class_label):\n",
    "    num_documents_in_class=0\n",
    "    num_positive_documents=0\n",
    "    for document in documents.values():\n",
    "      if(word in document and list(document.items())[0][0]==class_label):\n",
    "        num_positive_documents=num_positive_documents+1\n",
    "      if(list(document.items())[0][0]==class_label):\n",
    "        num_documents_in_class=num_documents_in_class+1\n",
    "    probability = num_positive_documents / num_documents_in_class\n",
    "    return probability"
   ]
  },
  {
   "cell_type": "code",
   "execution_count": 11,
   "id": "c687af29",
   "metadata": {
    "execution": {
     "iopub.execute_input": "2024-01-09T15:25:31.005166Z",
     "iopub.status.busy": "2024-01-09T15:25:31.004827Z",
     "iopub.status.idle": "2024-01-09T15:25:31.014887Z",
     "shell.execute_reply": "2024-01-09T15:25:31.013742Z"
    },
    "papermill": {
     "duration": 0.018187,
     "end_time": "2024-01-09T15:25:31.016769",
     "exception": false,
     "start_time": "2024-01-09T15:25:30.998582",
     "status": "completed"
    },
    "tags": []
   },
   "outputs": [
    {
     "name": "stdout",
     "output_type": "stream",
     "text": [
      "Probability of 'the': 0.9817\n",
      "Probability of 'the in LLM class ': 0.9024\n"
     ]
    }
   ],
   "source": [
    "# Word for class probability is calculated\n",
    "target_word = \"the\"\n",
    "class_label = \"LLM\"\n",
    "# Calculate the probability of the word\n",
    "probability = calculate_probability(target_word, my_dictionary)\n",
    "llm_conditional_probability = calculate_conditional_probability(target_word, my_dictionary,class_label)\n",
    "\n",
    "# Display the result\n",
    "print(f\"Probability of '{target_word}': {probability:.4f}\")\n",
    "print(f\"Probability of '{target_word} in {class_label} class ': {llm_conditional_probability:.4f}\")"
   ]
  },
  {
   "cell_type": "code",
   "execution_count": 12,
   "id": "f3e7bf02",
   "metadata": {
    "execution": {
     "iopub.execute_input": "2024-01-09T15:25:31.027572Z",
     "iopub.status.busy": "2024-01-09T15:25:31.027217Z",
     "iopub.status.idle": "2024-01-09T15:25:31.045140Z",
     "shell.execute_reply": "2024-01-09T15:25:31.044308Z"
    },
    "papermill": {
     "duration": 0.025586,
     "end_time": "2024-01-09T15:25:31.047106",
     "exception": false,
     "start_time": "2024-01-09T15:25:31.021520",
     "status": "completed"
    },
    "tags": []
   },
   "outputs": [],
   "source": [
    "import math\n",
    "\n",
    "X_train_data = X_train[['text','generated']].values.tolist()\n",
    "X_dev_data=X_dev[['text','generated']].values.tolist()\n",
    "# print (X_dev_data[:5])"
   ]
  },
  {
   "cell_type": "code",
   "execution_count": 13,
   "id": "fea6ea8c",
   "metadata": {
    "execution": {
     "iopub.execute_input": "2024-01-09T15:25:31.058291Z",
     "iopub.status.busy": "2024-01-09T15:25:31.057951Z",
     "iopub.status.idle": "2024-01-09T15:25:31.061881Z",
     "shell.execute_reply": "2024-01-09T15:25:31.060924Z"
    },
    "papermill": {
     "duration": 0.011757,
     "end_time": "2024-01-09T15:25:31.063968",
     "exception": false,
     "start_time": "2024-01-09T15:25:31.052211",
     "status": "completed"
    },
    "tags": []
   },
   "outputs": [],
   "source": [
    "def tokenize(text):\n",
    "    return nltk.word_tokenize(text.lower())"
   ]
  },
  {
   "cell_type": "code",
   "execution_count": 14,
   "id": "dca6c6c0",
   "metadata": {
    "execution": {
     "iopub.execute_input": "2024-01-09T15:25:31.074987Z",
     "iopub.status.busy": "2024-01-09T15:25:31.074624Z",
     "iopub.status.idle": "2024-01-09T15:25:31.085787Z",
     "shell.execute_reply": "2024-01-09T15:25:31.084902Z"
    },
    "papermill": {
     "duration": 0.018503,
     "end_time": "2024-01-09T15:25:31.087468",
     "exception": false,
     "start_time": "2024-01-09T15:25:31.068965",
     "status": "completed"
    },
    "tags": []
   },
   "outputs": [],
   "source": [
    "'''\n",
    "This function tokenizes the text using the tokenize function and counts the occurrences of \n",
    "each word followed by the count of each word in the vocabulary for the respective class and \n",
    "counts the number of essays for each class.\n",
    "input data has text (essay text), generated (generated key)\n",
    "'''\n",
    "def count_words(data):\n",
    "  word_counts = defaultdict(int)\n",
    "  class_counts = defaultdict(int)\n",
    "\n",
    "    # Iterate through each entry in the dataset\n",
    "  for text, label in data:\n",
    "    words = tokenize(text)\n",
    "\n",
    "    words_counts = Counter(words)\n",
    "    min_occurrence = 5\n",
    "\n",
    "    # Filter out rare words based on the minimum occurrence threshold\n",
    "    vocabulary = [word  for word,count in words_counts.items() if count >= min_occurrence]\n",
    "\n",
    "    # Calculating number of essays of each class\n",
    "    class_counts[label] += 1\n",
    "\n",
    "    # Count of each word with respective of that class\n",
    "    for word in vocabulary:\n",
    "      word_counts[(word, label)] += 1\n",
    "  \n",
    "  return word_counts, class_counts\n",
    "\n",
    "'''\n",
    "This function calculates the probabilities of each word given its class\n",
    "'''\n",
    "def calculate_probabilities(word_counts, class_counts ,smoothing=0.2):\n",
    "    \n",
    "    #calculate the number of unique words in the word_counts dictionary\n",
    "    vocabulary_size = len(set(word for word, _ in word_counts.keys()))\n",
    "    # print (\"vocab size is \", vocabulary_size) #783\n",
    "    probabilities = defaultdict(int)\n",
    "    \n",
    "    for (word, label), count in word_counts.items():\n",
    "        prob_word_given_class = ((count + smoothing) / (class_counts[label] + smoothing * vocabulary_size))\n",
    "        log_prob_word_given_class = math.log(prob_word_given_class)\n",
    "        probabilities[(word, label)] = log_prob_word_given_class\n",
    "        \n",
    "    return probabilities\n",
    "\n",
    "'''\n",
    "This function is used to multiply the probabilities of all words for each class and adjusts \n",
    "the probabilities based on the prior probabilities of each class. Finally, compares the each \n",
    "class probabilities and predicts the class based on higher probability.\n",
    "'''\n",
    "def predict_class(text,probabilities, class_count,smoothing):\n",
    "  words = tokenize(text)\n",
    "  log_prob_human = 1\n",
    "  log_prob_llm = 1\n",
    "  for word in words:\n",
    "        log_prob_human *= probabilities.get((word, 0), smoothing )\n",
    "        log_prob_llm *= probabilities.get((word, 1), smoothing )\n",
    "\n",
    "  log_prob_human *= math.log(class_count[0]/(class_count[0]+class_count[1]))\n",
    "  log_prob_llm *= math.log(class_count[1]/(class_count[0]+class_count[1]))\n",
    "\n",
    "  final_prob_human = log_prob_human / (log_prob_human + log_prob_llm)\n",
    "  final_prob_llm = log_prob_llm / (log_prob_human + log_prob_llm)\n",
    "\n",
    "  return 0 if final_prob_human >= final_prob_llm else 1\n",
    "\n",
    "'''\n",
    "This function compares the predicted class with the true label and counts correct predictions.\n",
    "'''\n",
    "def evaluate_accuracy(dev_data, probabilities, class_count,smoothing=0.2):\n",
    "    correct_predictions = 0\n",
    "\n",
    "    for text, true_label in dev_data:\n",
    "        predicted_label = predict_class(text, probabilities, class_count,smoothing)\n",
    "        if predicted_label == true_label:\n",
    "            correct_predictions += 1\n",
    "\n",
    "    accuracy = correct_predictions / len(dev_data)\n",
    "    return accuracy"
   ]
  },
  {
   "cell_type": "code",
   "execution_count": 15,
   "id": "487e1d5f",
   "metadata": {
    "execution": {
     "iopub.execute_input": "2024-01-09T15:25:31.098178Z",
     "iopub.status.busy": "2024-01-09T15:25:31.097894Z",
     "iopub.status.idle": "2024-01-09T15:25:36.511053Z",
     "shell.execute_reply": "2024-01-09T15:25:36.509880Z"
    },
    "papermill": {
     "duration": 5.421218,
     "end_time": "2024-01-09T15:25:36.513604",
     "exception": false,
     "start_time": "2024-01-09T15:25:31.092386",
     "status": "completed"
    },
    "tags": []
   },
   "outputs": [
    {
     "name": "stdout",
     "output_type": "stream",
     "text": [
      "\n",
      "Accuracy on dev data: 0.8926174496644296\n"
     ]
    }
   ],
   "source": [
    "words_count,class_count = (count_words(X_train_data))\n",
    "# print('Class 0 is HUMAN \\nClass 1 is LLM')\n",
    "# print('\\nWords count (\"word\",\"class\" ==> count) : ',words_count)\n",
    "# print('Class Count (\"class\" ==> count) : ',class_count)\n",
    "\n",
    "probabilities_of_each_word = calculate_probabilities(words_count, class_count)\n",
    "# print('\\nProbability of word in that particular class (\"word\",\"class\" ==> probability) : ',probabilities_of_each_word)\n",
    "\n",
    "accuracy = evaluate_accuracy(X_dev_data\n",
    "                             , probabilities_of_each_word, class_count)\n",
    "print(f\"\\nAccuracy on dev data: {accuracy}\")"
   ]
  },
  {
   "cell_type": "code",
   "execution_count": 16,
   "id": "83ddfeb5",
   "metadata": {
    "execution": {
     "iopub.execute_input": "2024-01-09T15:25:36.525098Z",
     "iopub.status.busy": "2024-01-09T15:25:36.524689Z",
     "iopub.status.idle": "2024-01-09T15:25:36.531235Z",
     "shell.execute_reply": "2024-01-09T15:25:36.530540Z"
    },
    "papermill": {
     "duration": 0.014237,
     "end_time": "2024-01-09T15:25:36.532925",
     "exception": false,
     "start_time": "2024-01-09T15:25:36.518688",
     "status": "completed"
    },
    "tags": []
   },
   "outputs": [],
   "source": [
    "def derive_top_words(probabilities, label, top_n=10):\n",
    "    words_prob = [(word, prob) for (word, l), prob in probabilities.items() if l == label]\n",
    "    words_prob.sort(key=lambda x: x[1], reverse=True)\n",
    "    return words_prob[:top_n]\n",
    "\n",
    "\n",
    "\n",
    "def apply_smoothing(train_data, dev_data,smoothing_values):\n",
    "\n",
    "    for smoothing in smoothing_values:\n",
    "        word_counts, class_counts = count_words(train_data)\n",
    "        class_probabilities = {label: count / len(train_data) for label, count in class_counts.items()}\n",
    "        probabilities = calculate_probabilities(word_counts, class_counts, smoothing)\n",
    "\n",
    "        accuracy = evaluate_accuracy(dev_data, probabilities, class_probabilities,smoothing)\n",
    "        all_accuracy.append(accuracy)\n",
    "        print(f\"\\nAccuracy on dev data with smoothing {smoothing}: {accuracy}\")"
   ]
  },
  {
   "cell_type": "code",
   "execution_count": 17,
   "id": "877a9032",
   "metadata": {
    "execution": {
     "iopub.execute_input": "2024-01-09T15:25:36.544134Z",
     "iopub.status.busy": "2024-01-09T15:25:36.543766Z",
     "iopub.status.idle": "2024-01-09T15:25:58.052272Z",
     "shell.execute_reply": "2024-01-09T15:25:58.051045Z"
    },
    "papermill": {
     "duration": 21.517443,
     "end_time": "2024-01-09T15:25:58.055314",
     "exception": false,
     "start_time": "2024-01-09T15:25:36.537871",
     "status": "completed"
    },
    "tags": []
   },
   "outputs": [
    {
     "name": "stdout",
     "output_type": "stream",
     "text": [
      "\n",
      "Accuracy on dev data with smoothing 0.2: 0.8926174496644296\n",
      "\n",
      "Accuracy on dev data with smoothing 0.3: 0.7628635346756152\n",
      "\n",
      "Accuracy on dev data with smoothing 0.4: 0.6577181208053692\n",
      "\n",
      "Accuracy on dev data with smoothing 0.5: 0.5727069351230425\n",
      "\n",
      "Top 10 words predicting human essays:\n",
      ".: -0.15104805204002933\n",
      "the: -0.15942331037676163\n",
      "of: -0.16786930653017254\n",
      "to: -0.17318450985897604\n",
      ",: -0.18282365485707963\n",
      "a: -0.1925566180319656\n",
      "in: -0.20899174199395146\n",
      "and: -0.21120364291788143\n",
      "is: -0.31371417384481864\n",
      "that: -0.42932219677309835\n",
      "\n",
      "Top 10 words predicting LLM-generated essays:\n",
      "the: -1.168024359490481\n",
      ",: -1.18159308869655\n",
      ".: -1.267115262134712\n",
      "and: -1.267115262134712\n",
      "of: -1.2973290407312086\n",
      "a: -1.4109031549264237\n",
      "to: -1.7809215140388404\n",
      "electoral: -2.2479445151464383\n",
      "in: -2.2479445151464383\n",
      "college: -2.420787327985849\n"
     ]
    }
   ],
   "source": [
    "all_accuracy = []\n",
    "smoothing_values = [0.2, 0.3, 0.4, 0.5]\n",
    "apply_smoothing(X_train_data, X_dev_data,smoothing_values)\n",
    "\n",
    "top_words_human = derive_top_words(probabilities_of_each_word, 0)\n",
    "top_words_llm = derive_top_words(probabilities_of_each_word, 1)\n",
    "\n",
    "print(\"\\nTop 10 words predicting human essays:\")\n",
    "for word, prob in top_words_human:\n",
    "    print(f\"{word}: {prob}\")\n",
    "\n",
    "print(\"\\nTop 10 words predicting LLM-generated essays:\")\n",
    "for word, prob in top_words_llm:\n",
    "    print(f\"{word}: {prob}\")"
   ]
  },
  {
   "cell_type": "code",
   "execution_count": 18,
   "id": "b1b037e3",
   "metadata": {
    "execution": {
     "iopub.execute_input": "2024-01-09T15:25:58.067454Z",
     "iopub.status.busy": "2024-01-09T15:25:58.067055Z",
     "iopub.status.idle": "2024-01-09T15:25:58.287240Z",
     "shell.execute_reply": "2024-01-09T15:25:58.285362Z"
    },
    "papermill": {
     "duration": 0.228494,
     "end_time": "2024-01-09T15:25:58.289407",
     "exception": false,
     "start_time": "2024-01-09T15:25:58.060913",
     "status": "completed"
    },
    "tags": []
   },
   "outputs": [
    {
     "data": {
      "image/png": "[encoded data removed]",
      "text/plain": [
       "<Figure size 640x480 with 1 Axes>"
      ]
     },
     "metadata": {},
     "output_type": "display_data"
    }
   ],
   "source": [
    "from matplotlib import pyplot as plt\n",
    "plt.bar(smoothing_values, all_accuracy,width=0.05)\n",
    "plt.xlabel('Smoothing Values')\n",
    "plt.ylabel('Accuracy')\n",
    "plt.title('Effect of Smoothing on Accuracy')\n",
    "plt.show()"
   ]
  },
  {
   "cell_type": "code",
   "execution_count": null,
   "id": "4c91302a",
   "metadata": {
    "papermill": {
     "duration": 0.005098,
     "end_time": "2024-01-09T15:25:58.300010",
     "exception": false,
     "start_time": "2024-01-09T15:25:58.294912",
     "status": "completed"
    },
    "tags": []
   },
   "outputs": [],
   "source": []
  }
 ],
 "metadata": {
  "kaggle": {
   "accelerator": "none",
   "dataSources": [
    {
     "databundleVersionId": 6888007,
     "sourceId": 61542,
     "sourceType": "competition"
    },
    {
     "datasetId": 4277579,
     "sourceId": 7363537,
     "sourceType": "datasetVersion"
    }
   ],
   "dockerImageVersionId": 30626,
   "isGpuEnabled": false,
   "isInternetEnabled": true,
   "language": "python",
   "sourceType": "notebook"
  },
  "kernelspec": {
   "display_name": "Python 3",
   "language": "python",
   "name": "python3"
  },
  "language_info": {
   "codemirror_mode": {
    "name": "ipython",
    "version": 3
   },
   "file_extension": ".py",
   "mimetype": "text/x-python",
   "name": "python",
   "nbconvert_exporter": "python",
   "pygments_lexer": "ipython3",
   "version": "3.10.12"
  },
  "papermill": {
   "default_parameters": {},
   "duration": 32.911964,
   "end_time": "2024-01-09T15:25:58.826931",
   "environment_variables": {},
   "exception": null,
   "input_path": "__notebook__.ipynb",
   "output_path": "__notebook__.ipynb",
   "parameters": {},
   "start_time": "2024-01-09T15:25:25.914967",
   "version": "2.4.0"
  }
 },
 "nbformat": 4,
 "nbformat_minor": 5
}
